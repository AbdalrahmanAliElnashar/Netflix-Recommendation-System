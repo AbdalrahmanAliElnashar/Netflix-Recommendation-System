{
 "cells": [
  {
   "cell_type": "markdown",
   "id": "4ee03623",
   "metadata": {},
   "source": [
    "# Netflix Recommendation System"
   ]
  },
  {
   "cell_type": "code",
   "execution_count": 11,
   "id": "2d065069",
   "metadata": {},
   "outputs": [],
   "source": [
    "# Load libraries\n",
    "import os \n",
    "import pandas as pd\n",
    "import numpy as np\n",
    "import matplotlib.pyplot as plt\n",
    "import seaborn as sns\n"
   ]
  },
  {
   "cell_type": "markdown",
   "id": "3fcf8f1e",
   "metadata": {},
   "source": [
    "## Access Dataset"
   ]
  },
  {
   "cell_type": "code",
   "execution_count": 15,
   "id": "1a96b936",
   "metadata": {
    "scrolled": true
   },
   "outputs": [
    {
     "name": "stdout",
     "output_type": "stream",
     "text": [
      "Opening file: combined_data_1.txt\n",
      "Movie_Id      4499\n",
      "Cust_Id     470758\n",
      "Rating           5\n",
      "dtype: int64\n"
     ]
    },
    {
     "data": {
      "text/html": [
       "<div>\n",
       "<style scoped>\n",
       "    .dataframe tbody tr th:only-of-type {\n",
       "        vertical-align: middle;\n",
       "    }\n",
       "\n",
       "    .dataframe tbody tr th {\n",
       "        vertical-align: top;\n",
       "    }\n",
       "\n",
       "    .dataframe thead th {\n",
       "        text-align: right;\n",
       "    }\n",
       "</style>\n",
       "<table border=\"1\" class=\"dataframe\">\n",
       "  <thead>\n",
       "    <tr style=\"text-align: right;\">\n",
       "      <th></th>\n",
       "      <th>Movie_Id</th>\n",
       "      <th>Cust_Id</th>\n",
       "      <th>Rating</th>\n",
       "    </tr>\n",
       "  </thead>\n",
       "  <tbody>\n",
       "    <tr>\n",
       "      <th>0</th>\n",
       "      <td>1</td>\n",
       "      <td>1488844</td>\n",
       "      <td>3</td>\n",
       "    </tr>\n",
       "    <tr>\n",
       "      <th>1</th>\n",
       "      <td>1</td>\n",
       "      <td>822109</td>\n",
       "      <td>5</td>\n",
       "    </tr>\n",
       "    <tr>\n",
       "      <th>2</th>\n",
       "      <td>1</td>\n",
       "      <td>885013</td>\n",
       "      <td>4</td>\n",
       "    </tr>\n",
       "    <tr>\n",
       "      <th>3</th>\n",
       "      <td>1</td>\n",
       "      <td>30878</td>\n",
       "      <td>4</td>\n",
       "    </tr>\n",
       "    <tr>\n",
       "      <th>4</th>\n",
       "      <td>1</td>\n",
       "      <td>823519</td>\n",
       "      <td>3</td>\n",
       "    </tr>\n",
       "    <tr>\n",
       "      <th>...</th>\n",
       "      <td>...</td>\n",
       "      <td>...</td>\n",
       "      <td>...</td>\n",
       "    </tr>\n",
       "    <tr>\n",
       "      <th>24053759</th>\n",
       "      <td>4499</td>\n",
       "      <td>2591364</td>\n",
       "      <td>2</td>\n",
       "    </tr>\n",
       "    <tr>\n",
       "      <th>24053760</th>\n",
       "      <td>4499</td>\n",
       "      <td>1791000</td>\n",
       "      <td>2</td>\n",
       "    </tr>\n",
       "    <tr>\n",
       "      <th>24053761</th>\n",
       "      <td>4499</td>\n",
       "      <td>512536</td>\n",
       "      <td>5</td>\n",
       "    </tr>\n",
       "    <tr>\n",
       "      <th>24053762</th>\n",
       "      <td>4499</td>\n",
       "      <td>988963</td>\n",
       "      <td>3</td>\n",
       "    </tr>\n",
       "    <tr>\n",
       "      <th>24053763</th>\n",
       "      <td>4499</td>\n",
       "      <td>1704416</td>\n",
       "      <td>3</td>\n",
       "    </tr>\n",
       "  </tbody>\n",
       "</table>\n",
       "<p>24053764 rows × 3 columns</p>\n",
       "</div>"
      ],
      "text/plain": [
       "          Movie_Id  Cust_Id  Rating\n",
       "0                1  1488844       3\n",
       "1                1   822109       5\n",
       "2                1   885013       4\n",
       "3                1    30878       4\n",
       "4                1   823519       3\n",
       "...            ...      ...     ...\n",
       "24053759      4499  2591364       2\n",
       "24053760      4499  1791000       2\n",
       "24053761      4499   512536       5\n",
       "24053762      4499   988963       3\n",
       "24053763      4499  1704416       3\n",
       "\n",
       "[24053764 rows x 3 columns]"
      ]
     },
     "execution_count": 15,
     "metadata": {},
     "output_type": "execute_result"
    }
   ],
   "source": [
    "if not os.path.isfile('data.csv'):\n",
    "    data = open('data.csv', mode='w')\n",
    "\n",
    "files = ['combined_data_1.txt',\n",
    "#         'combined_data_2.txt',\n",
    "#          'combined_data_3.txt',\n",
    "#          'combined_data_4.txt'\n",
    "        ]\n",
    "\n",
    "# Remove the line with movie_id: and add a new column of movie_id\n",
    "# Combine all data files into a csv file\n",
    "for file in files:\n",
    "  print(\"Opening file: {}\".format(file))\n",
    "  with open(file) as f:\n",
    "    for line in f:\n",
    "        line = line.strip()\n",
    "        if line.endswith(':'):\n",
    "            movie_id = line.replace(':', '')\n",
    "        else:\n",
    "            data.write(movie_id + ',' + line)\n",
    "            data.write('\\n')\n",
    "data.close()\n",
    "\n",
    "# Read all data into a pd dataframe\n",
    "df = pd.read_csv('data.csv', names=['Movie_Id', 'Cust_Id','Rating','date'])\n",
    "# Drop date column\n",
    "df = df.drop('date', axis = 1)\n",
    "print(df.nunique())\n",
    "df"
   ]
  },
  {
   "cell_type": "markdown",
   "id": "807d8ab7",
   "metadata": {},
   "source": [
    "### Shape and type of dataset"
   ]
  },
  {
   "cell_type": "code",
   "execution_count": 24,
   "id": "7ed4c70c",
   "metadata": {
    "scrolled": false
   },
   "outputs": [
    {
     "name": "stdout",
     "output_type": "stream",
     "text": [
      "Full dataset shape: (24053764, 3)\n",
      "-Dataset examples-\n",
      "          Movie_Id  Cust_Id  Rating\n",
      "0                1  1488844       3\n",
      "5000000        996   501954       2\n",
      "10000000      1962   404654       5\n",
      "15000000      2876   886608       2\n",
      "20000000      3825  1193835       2\n",
      "<class 'pandas.core.series.Series'>\n",
      "<class 'pandas.core.series.Series'>\n",
      "<class 'pandas.core.series.Series'>\n"
     ]
    }
   ],
   "source": [
    "\n",
    "df.index = np.arange(0,len(df))\n",
    "print('Full dataset shape: {}'.format(df.shape))\n",
    "print('-Dataset examples-')\n",
    "print(df.iloc[::5000000, :])\n",
    "print(type(df['Movie_Id']))\n",
    "print(type(df['Cust_Id']))\n",
    "print(type(df['Rating']))\n",
    "\n"
   ]
  },
  {
   "cell_type": "markdown",
   "id": "bc803d25",
   "metadata": {},
   "source": [
    "### Rating overview"
   ]
  },
  {
   "cell_type": "code",
   "execution_count": 46,
   "id": "29185547",
   "metadata": {},
   "outputs": [
    {
     "data": {
      "image/png": "[encoded data removed]",
      "text/plain": [
       "<Figure size 1080x720 with 1 Axes>"
      ]
     },
     "metadata": {
      "needs_background": "light"
     },
     "output_type": "display_data"
    }
   ],
   "source": [
    "p = df.groupby('Rating')['Rating'].agg(['count'])\n",
    "\n",
    "# get movie count\n",
    "movie_count = df.isnull().sum()[1]\n",
    "\n",
    "# get customer count\n",
    "cust_count = df['Cust_Id'].nunique() - movie_count\n",
    "\n",
    "# get rating count\n",
    "rating_count = df['Cust_Id'].count() - movie_count\n",
    "\n",
    "ax = p.plot(kind = 'barh', legend = False, figsize = (15,10))\n",
    "plt.title('Total pool: 4,490 Movies, {:,} customers, {:,} ratings given'.format(movie_count, cust_count, rating_count), fontsize=20)\n",
    "plt.axis('off')\n",
    "\n",
    "for i in range(1,6):\n",
    "    ax.text(p.iloc[i-1][0]/4, i-1, 'Rating {}: {:.0f}%'.format(i, p.iloc[i-1][0]*100 / p.sum()[0]), color = 'white', weight = 'bold')\n",
    "    "
   ]
  },
  {
   "cell_type": "markdown",
   "id": "50a87958",
   "metadata": {},
   "source": [
    "### Converting Data Types "
   ]
  },
  {
   "cell_type": "code",
   "execution_count": 26,
   "id": "a2cfcfeb",
   "metadata": {},
   "outputs": [
    {
     "name": "stdout",
     "output_type": "stream",
     "text": [
      "-Dataset examples-\n",
      "          Movie_Id  Cust_Id  Rating\n",
      "0                1  1488844     3.0\n",
      "5000000        996   501954     2.0\n",
      "10000000      1962   404654     5.0\n",
      "15000000      2876   886608     2.0\n",
      "20000000      3825  1193835     2.0\n"
     ]
    }
   ],
   "source": [
    "df['Movie_Id'] = df['Movie_Id'].astype(int)\n",
    "df['Cust_Id'] = df['Cust_Id'].astype(int)\n",
    "df['Rating'] = df['Rating'].astype(float)\n",
    "print('-Dataset examples-')\n",
    "print(df.iloc[::5000000, :])"
   ]
  },
  {
   "cell_type": "markdown",
   "id": "f0200d75",
   "metadata": {},
   "source": [
    "## Data Slicing to reduce size of data"
   ]
  },
  {
   "cell_type": "code",
   "execution_count": 27,
   "id": "a544c58a",
   "metadata": {},
   "outputs": [
    {
     "name": "stdout",
     "output_type": "stream",
     "text": [
      "Movie minimum times of review: 1799.0\n",
      "Customer minimum times of review: 52.0\n"
     ]
    }
   ],
   "source": [
    "_filter = ['count','mean']\n",
    "\n",
    "df_movie_summary = df.groupby('Movie_Id')['Rating'].agg(_filter)\n",
    "df_movie_summary.index = df_movie_summary.index.map(int)\n",
    "movie_benchmark = round(df_movie_summary['count'].quantile(0.7),0)\n",
    "drop_movie_list = df_movie_summary[df_movie_summary['count'] < movie_benchmark].index\n",
    "\n",
    "print('Movie minimum times of review: {}'.format(movie_benchmark))\n",
    "\n",
    "df_cust_summary = df.groupby('Cust_Id')['Rating'].agg(_filter)\n",
    "df_cust_summary.index = df_cust_summary.index.map(int)\n",
    "cust_benchmark = round(df_cust_summary['count'].quantile(0.7),0)\n",
    "drop_cust_list = df_cust_summary[df_cust_summary['count'] < cust_benchmark].index\n",
    "\n",
    "print('Customer minimum times of review: {}'.format(cust_benchmark))"
   ]
  },
  {
   "cell_type": "markdown",
   "id": "862998f2",
   "metadata": {},
   "source": [
    "## Difference between data shape before and after"
   ]
  },
  {
   "cell_type": "code",
   "execution_count": 30,
   "id": "4cd3651d",
   "metadata": {},
   "outputs": [
    {
     "name": "stdout",
     "output_type": "stream",
     "text": [
      "Original Shape: (24053764, 3)\n",
      "After Trim Shape: (17337458, 3)\n",
      "-Data Examples-\n",
      "          Movie_Id  Cust_Id  Rating\n",
      "693              3   712664     5.0\n",
      "6931106       1384  1299309     5.0\n",
      "13857613      2660   400155     3.0\n",
      "20762607      3923   466962     4.0\n"
     ]
    }
   ],
   "source": [
    "print('Original Shape: {}'.format(df.shape))\n",
    "df = df[~df['Movie_Id'].isin(drop_movie_list)]\n",
    "df = df[~df['Cust_Id'].isin(drop_cust_list)]\n",
    "print('After Trim Shape: {}'.format(df.shape))\n",
    "print('-Data Examples-')\n",
    "print(df.iloc[::5000000, :])"
   ]
  },
  {
   "cell_type": "markdown",
   "id": "3c1b3e2e",
   "metadata": {},
   "source": [
    "## Pivot Tabel"
   ]
  },
  {
   "cell_type": "code",
   "execution_count": 31,
   "id": "869e7f7b",
   "metadata": {},
   "outputs": [
    {
     "name": "stdout",
     "output_type": "stream",
     "text": [
      "(143458, 1350)\n"
     ]
    }
   ],
   "source": [
    "df_p = pd.pivot_table(df,values='Rating',index='Cust_Id',columns='Movie_Id')\n",
    "\n",
    "print(df_p.shape)"
   ]
  },
  {
   "cell_type": "markdown",
   "id": "4a3630a7",
   "metadata": {},
   "source": [
    "### Access Movies titles file"
   ]
  },
  {
   "cell_type": "code",
   "execution_count": 32,
   "id": "4f9a4332",
   "metadata": {},
   "outputs": [
    {
     "name": "stdout",
     "output_type": "stream",
     "text": [
      "            Year                          Name\n",
      "Movie_Id                                      \n",
      "1         2003.0               Dinosaur Planet\n",
      "2         2004.0    Isle of Man TT 2004 Review\n",
      "3         1997.0                     Character\n",
      "4         1994.0  Paula Abdul's Get Up & Dance\n",
      "5         2004.0      The Rise and Fall of ECW\n",
      "6         1997.0                          Sick\n",
      "7         1992.0                         8 Man\n",
      "8         2004.0    What the #$*! Do We Know!?\n",
      "9         1991.0      Class of Nuke 'Em High 2\n",
      "10        2001.0                       Fighter\n"
     ]
    }
   ],
   "source": [
    "df_title = pd.read_csv('movie_titles.csv', encoding = \"ISO-8859-1\", header = None, names = ['Movie_Id', 'Year', 'Name'])\n",
    "df_title.set_index('Movie_Id', inplace = True)\n",
    "print (df_title.head(10))"
   ]
  },
  {
   "cell_type": "markdown",
   "id": "883889ed",
   "metadata": {},
   "source": [
    "# Recommendation System \"collaborative Filtering\""
   ]
  },
  {
   "cell_type": "markdown",
   "id": "d4bc8bf8",
   "metadata": {},
   "source": [
    "## Singular Value Decompostion "
   ]
  },
  {
   "cell_type": "code",
   "execution_count": 34,
   "id": "60132e23",
   "metadata": {},
   "outputs": [],
   "source": [
    "# load surprise package\n",
    "from surprise import Reader, Dataset, SVD\n",
    "from surprise.model_selection import cross_validate"
   ]
  },
  {
   "cell_type": "code",
   "execution_count": 37,
   "id": "a4ff84aa",
   "metadata": {},
   "outputs": [
    {
     "data": {
      "text/plain": [
       "{'test_rmse': array([0.99773974, 1.00186188, 0.98960726, 0.99761667, 0.99805417]),\n",
       " 'test_mae': array([0.80598393, 0.80707663, 0.79509536, 0.80212011, 0.79506179]),\n",
       " 'fit_time': (11.406669616699219,\n",
       "  10.833056688308716,\n",
       "  10.74279236793518,\n",
       "  10.927114963531494,\n",
       "  13.313436031341553),\n",
       " 'test_time': (0.39157819747924805,\n",
       "  0.39620113372802734,\n",
       "  0.531705379486084,\n",
       "  0.38114380836486816,\n",
       "  0.5007901191711426)}"
      ]
     },
     "execution_count": 37,
     "metadata": {},
     "output_type": "execute_result"
    }
   ],
   "source": [
    "\n",
    "reader = Reader()\n",
    "\n",
    "# get just top 100K rows for faster run time\n",
    "data = Dataset.load_from_df(df[['Cust_Id', 'Movie_Id', 'Rating']][:100000], reader)\n",
    "\n",
    "#data.split(n_folds=3)\n",
    "\n",
    "svd = SVD()\n",
    "cross_validate(svd, data, measures=['RMSE', 'MAE'])"
   ]
  },
  {
   "cell_type": "markdown",
   "id": "102d6e8c",
   "metadata": {},
   "source": [
    "### Explore what one user liked to watch "
   ]
  },
  {
   "cell_type": "code",
   "execution_count": 38,
   "id": "d5e515b2",
   "metadata": {},
   "outputs": [
    {
     "name": "stdout",
     "output_type": "stream",
     "text": [
      "Movie_Id\n",
      "57                                            Richard III\n",
      "175                                        Reservoir Dogs\n",
      "311                                               Ed Wood\n",
      "329                                                 Dogma\n",
      "331                                           Chasing Amy\n",
      "395                                         Captain Blood\n",
      "788                                                Clerks\n",
      "798                                                  Jaws\n",
      "907                                       Animal Crackers\n",
      "985                                             The Mummy\n",
      "1552                                          Black Adder\n",
      "1905    Pirates of the Caribbean: The Curse of the Bla...\n",
      "2000                          Four Weddings and a Funeral\n",
      "2122                                 Being John Malkovich\n",
      "2342                                        Super Size Me\n",
      "2360                                  Singin' in the Rain\n",
      "2430                           Alien: Collector's Edition\n",
      "2443                             Like Water for Chocolate\n",
      "2452        Lord of the Rings: The Fellowship of the Ring\n",
      "2465                                   This Is Spinal Tap\n",
      "2554                        The Rocky Horror Picture Show\n",
      "2847                                    The Mark of Zorro\n",
      "2848                                          The Hustler\n",
      "2862                             The Silence of the Lambs\n",
      "3150                     Monty Python: The Life of Python\n",
      "3168                            Evil Dead 2: Dead by Dawn\n",
      "3198                                    The Addams Family\n",
      "3315                                   The Maltese Falcon\n",
      "3446                                        Spirited Away\n",
      "3489                                         Time Bandits\n",
      "3590                              Jason and the Argonauts\n",
      "3648            Who Framed Roger Rabbit?: Special Edition\n",
      "3798                                            The Sting\n",
      "3935                                     Yellow Submarine\n",
      "3949        Terminator 2: Extreme Edition: Bonus Material\n",
      "3962                            Finding Nemo (Widescreen)\n",
      "3984                                         On the Beach\n",
      "4080                                        A Mighty Wind\n",
      "4227                                       The Full Monty\n",
      "4253                             Kind Hearts and Coronets\n",
      "4306                                      The Sixth Sense\n",
      "4345                                Bowling for Columbine\n",
      "4356                                    Road to Perdition\n",
      "4392                                     Army of Darkness\n",
      "4454                                 To Have and Have Not\n",
      "Name: Name, dtype: object\n"
     ]
    }
   ],
   "source": [
    "# User 785318 \n",
    "df_785314 = df[(df['Cust_Id'] == 785314) & (df['Rating'] == 5)]\n",
    "df_785314 = df_785314.set_index('Movie_Id')\n",
    "df_785314 = df_785314.join(df_title)['Name']\n",
    "print(df_785314)"
   ]
  },
  {
   "cell_type": "markdown",
   "id": "7014d11f",
   "metadata": {},
   "source": [
    "### predict what he will like to watch and estimated rating"
   ]
  },
  {
   "cell_type": "code",
   "execution_count": 39,
   "id": "684c8e22",
   "metadata": {},
   "outputs": [
    {
     "name": "stdout",
     "output_type": "stream",
     "text": [
      "        Year                                   Name  Estimate_Score\n",
      "1276  1988.0                    Red Dwarf: Series 3        5.000000\n",
      "1551  1983.0                            Black Adder        4.863610\n",
      "2113  2002.0                                Firefly        4.794967\n",
      "2464  1984.0                     This Is Spinal Tap        4.665142\n",
      "871   1954.0                          Seven Samurai        4.664717\n",
      "2101  1994.0                 The Simpsons: Season 6        4.653580\n",
      "3443  2004.0  Family Guy: Freakin' Sweet Collection        4.632508\n",
      "174   1992.0                         Reservoir Dogs        4.627532\n",
      "4391  1993.0                       Army of Darkness        4.624925\n",
      "2553  1975.0          The Rocky Horror Picture Show        4.614436\n"
     ]
    }
   ],
   "source": [
    "user_785314 = df_title.copy()\n",
    "user_785314 = user_785314.reset_index()\n",
    "user_785314 = user_785314[~user_785314['Movie_Id'].isin(drop_movie_list)]\n",
    "\n",
    "# getting full dataset\n",
    "data = Dataset.load_from_df(df[['Cust_Id', 'Movie_Id', 'Rating']], reader)\n",
    "\n",
    "trainset = data.build_full_trainset()\n",
    "svd.fit(trainset)\n",
    "\n",
    "user_785314['Estimate_Score'] = user_785314['Movie_Id'].apply(lambda x: svd.predict(785314, x).est)\n",
    "\n",
    "user_785314 = user_785314.drop('Movie_Id', axis = 1)\n",
    "\n",
    "user_785314 = user_785314.sort_values('Estimate_Score', ascending=False)\n",
    "print(user_785314.head(10))"
   ]
  },
  {
   "cell_type": "markdown",
   "id": "fc20a7ea",
   "metadata": {},
   "source": [
    "## Recommend with Pearsons' R correlations to clustering similar movies"
   ]
  },
  {
   "cell_type": "code",
   "execution_count": 42,
   "id": "b57a12da",
   "metadata": {},
   "outputs": [],
   "source": [
    "def recommend(movie_title, min_count):\n",
    "    print(\"For movie ({})\".format(movie_title))\n",
    "    print(\"- Top 10 movies recommended based on Pearsons'R correlation - \")\n",
    "    i = int(df_title.index[df_title['Name'] == movie_title][0])\n",
    "    target = df_p[i]\n",
    "    similar_to_target = df_p.corrwith(target)\n",
    "    corr_target = pd.DataFrame(similar_to_target, columns = ['PearsonR'])\n",
    "    corr_target.dropna(inplace = True)\n",
    "    corr_target = corr_target.sort_values('PearsonR', ascending = False)\n",
    "    corr_target.index = corr_target.index.map(int)\n",
    "    corr_target = corr_target.join(df_title).join(df_movie_summary)[['PearsonR', 'Name', 'count', 'mean']]\n",
    "    print(corr_target[corr_target['count']>min_count][:10].to_string(index=False))"
   ]
  },
  {
   "cell_type": "markdown",
   "id": "a5acd200",
   "metadata": {},
   "source": [
    "## Predict Similar Movies"
   ]
  },
  {
   "cell_type": "code",
   "execution_count": 44,
   "id": "59146817",
   "metadata": {},
   "outputs": [
    {
     "name": "stdout",
     "output_type": "stream",
     "text": [
      "For movie (Inu-Yasha)\n",
      "- Top 10 movies recommended based on Pearsons'R correlation - \n",
      " PearsonR                               Name  count     mean\n",
      " 1.000000                          Inu-Yasha   1883 4.554434\n",
      " 0.923685                 Foyle's War: Set 2   2475 4.249293\n",
      " 0.906828              Love in the Afternoon   2370 3.540506\n",
      " 0.899746 Stoked: The Rise and Fall of Gator   2095 3.422912\n",
      " 0.883783                       Regular Guys   1931 3.372864\n",
      " 0.877944                           Together   3958 3.889843\n",
      " 0.860688                 Spencer's Mountain   2624 3.848323\n",
      " 0.854868                         Live Flesh   6072 3.600626\n",
      " 0.839446                        Fever Pitch   2948 2.978290\n",
      " 0.836660                 Cries and Whispers   2041 3.587457\n"
     ]
    }
   ],
   "source": [
    "recommend(\"Inu-Yasha\", 0)\n"
   ]
  },
  {
   "cell_type": "code",
   "execution_count": 45,
   "id": "e6d228ec",
   "metadata": {},
   "outputs": [
    {
     "name": "stdout",
     "output_type": "stream",
     "text": [
      "For movie (Love in the Afternoon)\n",
      "- Top 10 movies recommended based on Pearsons'R correlation - \n",
      " PearsonR                                           Name  count     mean\n",
      " 1.000000                          Love in the Afternoon   2370 3.540506\n",
      " 0.906828                                      Inu-Yasha   1883 4.554434\n",
      " 0.817612                           Yu-Gi-Oh!: The Movie   3173 3.331547\n",
      " 0.783903                          Escaflowne: The Movie   1992 3.629016\n",
      " 0.741700       Captain Pantoja and the Special Services   1801 3.417546\n",
      " 0.728322 Neon Genesis Evangelion: The End of Evangelion   2375 3.911158\n",
      " 0.727858           Winnie the Pooh: Springtime with Roo   2190 3.768037\n",
      " 0.722966                   Superbabies: Baby Geniuses 2   2983 2.851157\n",
      " 0.684921                   The Education of Little Tree   1913 3.690016\n",
      " 0.679832                     King of the Hill: Season 3   2339 3.849508\n"
     ]
    }
   ],
   "source": [
    "recommend(\"Love in the Afternoon\", 0)"
   ]
  }
 ],
 "metadata": {
  "kernelspec": {
   "display_name": "Python 3 (ipykernel)",
   "language": "python",
   "name": "python3"
  },
  "language_info": {
   "codemirror_mode": {
    "name": "ipython",
    "version": 3
   },
   "file_extension": ".py",
   "mimetype": "text/x-python",
   "name": "python",
   "nbconvert_exporter": "python",
   "pygments_lexer": "ipython3",
   "version": "3.9.7"
  }
 },
 "nbformat": 4,
 "nbformat_minor": 5
}
